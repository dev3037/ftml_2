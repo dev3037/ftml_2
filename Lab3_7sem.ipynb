{
 "cells": [
  {
   "cell_type": "markdown",
   "id": "13271ec8-3813-47e0-8210-d8ce0c93578d",
   "metadata": {},
   "source": [
    "## 1: Подготовка данных"
   ]
  },
  {
   "cell_type": "code",
   "execution_count": 1,
   "id": "0d8e4fa2-db58-4835-9972-4400f5fa2a7d",
   "metadata": {},
   "outputs": [
    {
     "data": {
      "text/html": [
       "<div>\n",
       "<style scoped>\n",
       "    .dataframe tbody tr th:only-of-type {\n",
       "        vertical-align: middle;\n",
       "    }\n",
       "\n",
       "    .dataframe tbody tr th {\n",
       "        vertical-align: top;\n",
       "    }\n",
       "\n",
       "    .dataframe thead th {\n",
       "        text-align: right;\n",
       "    }\n",
       "</style>\n",
       "<table border=\"1\" class=\"dataframe\">\n",
       "  <thead>\n",
       "    <tr style=\"text-align: right;\">\n",
       "      <th></th>\n",
       "      <th>Дата</th>\n",
       "      <th>Цена</th>\n",
       "      <th>Откр.</th>\n",
       "      <th>Макс.</th>\n",
       "      <th>Мин.</th>\n",
       "      <th>Объём</th>\n",
       "      <th>Изм. %</th>\n",
       "    </tr>\n",
       "  </thead>\n",
       "  <tbody>\n",
       "    <tr>\n",
       "      <th>0</th>\n",
       "      <td>2024-12-23</td>\n",
       "      <td>119.74</td>\n",
       "      <td>117,18</td>\n",
       "      <td>120,90</td>\n",
       "      <td>116,60</td>\n",
       "      <td>96,36M</td>\n",
       "      <td>3,90%</td>\n",
       "    </tr>\n",
       "    <tr>\n",
       "      <th>1</th>\n",
       "      <td>2024-12-20</td>\n",
       "      <td>115.24</td>\n",
       "      <td>107,16</td>\n",
       "      <td>116,42</td>\n",
       "      <td>106,88</td>\n",
       "      <td>155,01M</td>\n",
       "      <td>7,54%</td>\n",
       "    </tr>\n",
       "    <tr>\n",
       "      <th>2</th>\n",
       "      <td>2024-12-19</td>\n",
       "      <td>107.16</td>\n",
       "      <td>108,00</td>\n",
       "      <td>111,16</td>\n",
       "      <td>106,00</td>\n",
       "      <td>164,46M</td>\n",
       "      <td>-0,82%</td>\n",
       "    </tr>\n",
       "    <tr>\n",
       "      <th>3</th>\n",
       "      <td>2024-12-18</td>\n",
       "      <td>108.05</td>\n",
       "      <td>107,46</td>\n",
       "      <td>108,57</td>\n",
       "      <td>105,22</td>\n",
       "      <td>79,06M</td>\n",
       "      <td>0,74%</td>\n",
       "    </tr>\n",
       "    <tr>\n",
       "      <th>4</th>\n",
       "      <td>2024-12-17</td>\n",
       "      <td>107.26</td>\n",
       "      <td>108,72</td>\n",
       "      <td>109,47</td>\n",
       "      <td>106,10</td>\n",
       "      <td>67,65M</td>\n",
       "      <td>-1,33%</td>\n",
       "    </tr>\n",
       "  </tbody>\n",
       "</table>\n",
       "</div>"
      ],
      "text/plain": [
       "        Дата    Цена   Откр.   Макс.    Мин.    Объём  Изм. %\n",
       "0 2024-12-23  119.74  117,18  120,90  116,60   96,36M   3,90%\n",
       "1 2024-12-20  115.24  107,16  116,42  106,88  155,01M   7,54%\n",
       "2 2024-12-19  107.16  108,00  111,16  106,00  164,46M  -0,82%\n",
       "3 2024-12-18  108.05  107,46  108,57  105,22   79,06M   0,74%\n",
       "4 2024-12-17  107.26  108,72  109,47  106,10   67,65M  -1,33%"
      ]
     },
     "execution_count": 1,
     "metadata": {},
     "output_type": "execute_result"
    }
   ],
   "source": [
    "import pandas as pd\n",
    "\n",
    "# Загрузка данных\n",
    "df = pd.read_csv('GAZP.csv', delimiter=',', parse_dates=['Дата'], dayfirst=True)\n",
    "\n",
    "# Преобразование столбца \"Дата\" в формат datetime\n",
    "df['Дата'] = pd.to_datetime(df['Дата'], format='%d.%m.%Y')\n",
    "\n",
    "# Преобразуем запятую в точку в столбце \"Цена\" для корректной работы с числовыми значениями\n",
    "df['Цена'] = df['Цена'].str.replace(',', '.').astype(float)\n",
    "\n",
    "# Отобразим первые несколько строк данных для проверки\n",
    "df.head()\n"
   ]
  },
  {
   "cell_type": "markdown",
   "id": "b82e15f2-08dd-4cf6-998f-b2313c6bcc7b",
   "metadata": {},
   "source": [
    "### 1.2. Предобработка данных"
   ]
  },
  {
   "cell_type": "code",
   "execution_count": 2,
   "id": "46ad1217-ddb8-4f48-9008-61ac9ddde265",
   "metadata": {},
   "outputs": [],
   "source": [
    "# Нормализуем данные\n",
    "from sklearn.preprocessing import StandardScaler\n",
    "\n",
    "# Нормализация столбца \"Цена\"\n",
    "scaler = StandardScaler()\n",
    "df['Цена_норм'] = scaler.fit_transform(df[['Цена']])\n",
    "\n",
    "# Добавим лаги для \"Цена\"\n",
    "df['Цена_lag1'] = df['Цена_норм'].shift(1)\n",
    "df.dropna(inplace=True)  # Удаляем строки с NaN\n",
    "\n",
    "# Целевой признак - изменение цены\n",
    "df['Целевая'] = df['Цена_норм'].shift(-1)  # Прогнозируем следующую цену\n",
    "df.dropna(inplace=True)\n"
   ]
  },
  {
   "cell_type": "markdown",
   "id": "be266178-720e-4929-9b6e-269926573df4",
   "metadata": {},
   "source": [
    "## 2: Разделение данных на обучающую и тестовую выборки"
   ]
  },
  {
   "cell_type": "code",
   "execution_count": 3,
   "id": "40737ea8-b4d9-4d90-9870-d35b4a04d532",
   "metadata": {},
   "outputs": [],
   "source": [
    "from sklearn.model_selection import train_test_split\n",
    "\n",
    "X = df[['Цена_норм', 'Цена_lag1']]\n",
    "y = df['Целевая']\n",
    "\n",
    "# Разделение на обучающую и тестовую выборки\n",
    "X_train, X_test, y_train, y_test = train_test_split(X, y, test_size=0.2, shuffle=False)\n"
   ]
  },
  {
   "cell_type": "markdown",
   "id": "a828649d-4b08-498f-8661-20f313215589",
   "metadata": {},
   "source": [
    "## Этап 3: Обучение моделей машинного обучения"
   ]
  },
  {
   "cell_type": "markdown",
   "id": "e7d7a2f6-80b2-4c50-bf61-edd01f14655b",
   "metadata": {},
   "source": [
    "### 3.1. Логистическая регрессия"
   ]
  },
  {
   "cell_type": "code",
   "execution_count": 7,
   "id": "5464eb3c-edbb-4e51-bfbf-898c01d426dc",
   "metadata": {},
   "outputs": [
    {
     "name": "stdout",
     "output_type": "stream",
     "text": [
      "Accuracy: 0.9811320754716981\n"
     ]
    }
   ],
   "source": [
    "import pandas as pd\n",
    "from sklearn.model_selection import train_test_split\n",
    "from sklearn.preprocessing import StandardScaler\n",
    "from sklearn.linear_model import LogisticRegression\n",
    "from sklearn.metrics import accuracy_score\n",
    "from sklearn.metrics import mean_squared_error\n",
    "# Загрузка данных\n",
    "df = pd.read_csv(\"GAZP.csv\", usecols=[\"Дата\", \"Цена\"])\n",
    "\n",
    "# Преобразование столбца \"Цена\" в числовой формат (удаляем запятые)\n",
    "df['Цена'] = df['Цена'].str.replace(',', '').astype(float)\n",
    "\n",
    "# Проверка на наличие нечисловых значений (NaN)\n",
    "if df['Цена'].isna().sum() > 0:\n",
    "    print(\"В столбце 'Цена' есть пропущенные значения (NaN).\")\n",
    "    print(df[df['Цена'].isna()])\n",
    "\n",
    "# Создание целевой переменной: 1, если цена выше средней, 0 - если ниже\n",
    "avg_price = df['Цена'].mean()\n",
    "df['Целевая'] = (df['Цена'] > avg_price).astype(int)\n",
    "\n",
    "# Создание признаков (цена за предыдущий день)\n",
    "df['Цена_предыдущий'] = df['Цена'].shift(1)  # Сдвигаем цену на 1 день вниз\n",
    "\n",
    "# Удаление строк с пропущенными значениями (например, первая строка будет иметь NaN)\n",
    "df = df.dropna(subset=['Цена_предыдущий'])\n",
    "\n",
    "# Признаки и целевая переменная\n",
    "X = df[['Цена_предыдущий']].values\n",
    "y = df['Целевая'].values\n",
    "\n",
    "# Разделение на обучающую и тестовую выборки\n",
    "X_train, X_test, y_train, y_test = train_test_split(X, y, test_size=0.2, random_state=42)\n",
    "\n",
    "# Нормализация данных\n",
    "scaler = StandardScaler()\n",
    "X_train = scaler.fit_transform(X_train)\n",
    "X_test = scaler.transform(X_test)\n",
    "\n",
    "# Логистическая регрессия\n",
    "lr = LogisticRegression()\n",
    "lr.fit(X_train, y_train)\n",
    "\n",
    "# Прогнозирование на тестовой выборке\n",
    "y_pred = lr.predict(X_test)\n",
    "\n",
    "# Оценка модели\n",
    "accuracy = accuracy_score(y_test, y_pred)\n",
    "print(f'Accuracy: {accuracy}')\n"
   ]
  },
  {
   "cell_type": "markdown",
   "id": "3007a991-7102-4df0-ab8d-4359074913f0",
   "metadata": {},
   "source": [
    "### 3.2. Машина опорных векторов (SVM)"
   ]
  },
  {
   "cell_type": "code",
   "execution_count": 8,
   "id": "23b9aeef-6221-4134-a12f-f37b4bf2f84d",
   "metadata": {},
   "outputs": [
    {
     "name": "stdout",
     "output_type": "stream",
     "text": [
      "Mean Squared Error (SVM): 0.016091812458289913\n"
     ]
    }
   ],
   "source": [
    "from sklearn.svm import SVR\n",
    "\n",
    "# Обучение модели SVM\n",
    "svm = SVR()\n",
    "svm.fit(X_train, y_train)\n",
    "\n",
    "# Прогнозирование на тестовых данных\n",
    "y_pred_svm = svm.predict(X_test)\n",
    "\n",
    "# Оценка модели\n",
    "mse_svm = mean_squared_error(y_test, y_pred_svm)\n",
    "print(f'Mean Squared Error (SVM): {mse_svm}')\n"
   ]
  },
  {
   "cell_type": "markdown",
   "id": "63c32ceb-aca7-4c37-aaac-34f8d52b3644",
   "metadata": {},
   "source": [
    "### 3.3. Модель случайного леса (Random Forest)"
   ]
  },
  {
   "cell_type": "code",
   "execution_count": 9,
   "id": "01abf19c-0eae-464a-8051-c51120fc2209",
   "metadata": {},
   "outputs": [
    {
     "name": "stdout",
     "output_type": "stream",
     "text": [
      "Mean Squared Error (Random Forest): 0.01412452830188679\n"
     ]
    }
   ],
   "source": [
    "from sklearn.ensemble import RandomForestRegressor\n",
    "\n",
    "# Обучение модели случайного леса\n",
    "rf = RandomForestRegressor()\n",
    "rf.fit(X_train, y_train)\n",
    "\n",
    "# Прогнозирование на тестовых данных\n",
    "y_pred_rf = rf.predict(X_test)\n",
    "\n",
    "# Оценка модели\n",
    "mse_rf = mean_squared_error(y_test, y_pred_rf)\n",
    "print(f'Mean Squared Error (Random Forest): {mse_rf}')\n"
   ]
  },
  {
   "cell_type": "markdown",
   "id": "3c6cf1c1-65e1-4e91-b0fe-55e65b17408c",
   "metadata": {},
   "source": [
    "### 3.4. Градиентный бустинг (XGBoost)"
   ]
  },
  {
   "cell_type": "code",
   "execution_count": 10,
   "id": "f0bdd1d0-e6db-4ddd-8d25-c71172f594b1",
   "metadata": {},
   "outputs": [
    {
     "ename": "ModuleNotFoundError",
     "evalue": "No module named 'xgboost'",
     "output_type": "error",
     "traceback": [
      "\u001b[1;31m---------------------------------------------------------------------------\u001b[0m",
      "\u001b[1;31mModuleNotFoundError\u001b[0m                       Traceback (most recent call last)",
      "Cell \u001b[1;32mIn[10], line 1\u001b[0m\n\u001b[1;32m----> 1\u001b[0m \u001b[38;5;28;01mimport\u001b[39;00m \u001b[38;5;21;01mxgboost\u001b[39;00m \u001b[38;5;28;01mas\u001b[39;00m \u001b[38;5;21;01mxgb\u001b[39;00m\n\u001b[0;32m      3\u001b[0m \u001b[38;5;66;03m# Обучение модели XGBoost\u001b[39;00m\n\u001b[0;32m      4\u001b[0m xg \u001b[38;5;241m=\u001b[39m xgb\u001b[38;5;241m.\u001b[39mXGBRegressor()\n",
      "\u001b[1;31mModuleNotFoundError\u001b[0m: No module named 'xgboost'"
     ]
    }
   ],
   "source": [
    "import xgboost as xgb\n",
    "\n",
    "# Обучение модели XGBoost\n",
    "xg = xgb.XGBRegressor()\n",
    "xg.fit(X_train, y_train)\n",
    "\n",
    "# Прогнозирование на тестовых данных\n",
    "y_pred_xg = xg.predict(X_test)\n",
    "\n",
    "# Оценка модели\n",
    "mse_xg = mean_squared_error(y_test, y_pred_xg)\n",
    "print(f'Mean Squared Error (XGBoost): {mse_xg}')\n"
   ]
  },
  {
   "cell_type": "markdown",
   "id": "729b535f-61f2-478a-9db5-d93786789db6",
   "metadata": {},
   "source": [
    "## 4: Настройка гиперпараметров с помощью кросс-валидации"
   ]
  },
  {
   "cell_type": "markdown",
   "id": "b976b483-a49e-4651-a693-d739eaf10d97",
   "metadata": {},
   "source": [
    "### 4.1. Кросс-валидация для случайного леса (Random Forest)"
   ]
  },
  {
   "cell_type": "code",
   "execution_count": 11,
   "id": "0605070e-d179-4a93-8b8e-3f2494a87268",
   "metadata": {},
   "outputs": [
    {
     "name": "stdout",
     "output_type": "stream",
     "text": [
      "Fitting 5 folds for each of 81 candidates, totalling 405 fits\n",
      "Best Parameters for Random Forest: {'max_depth': 15, 'min_samples_leaf': 1, 'min_samples_split': 10, 'n_estimators': 100}\n"
     ]
    }
   ],
   "source": [
    "from sklearn.model_selection import GridSearchCV\n",
    "from sklearn.ensemble import RandomForestRegressor\n",
    "\n",
    "# Гиперпараметры для случайного леса\n",
    "param_grid_rf = {\n",
    "    'n_estimators': [100, 200, 300],\n",
    "    'max_depth': [5, 10, 15],\n",
    "    'min_samples_split': [2, 5, 10],\n",
    "    'min_samples_leaf': [1, 2, 4]\n",
    "}\n",
    "\n",
    "# Инициализация модели случайного леса\n",
    "rf = RandomForestRegressor()\n",
    "\n",
    "# Настройка GridSearchCV для кросс-валидации\n",
    "grid_rf = GridSearchCV(estimator=rf, param_grid=param_grid_rf, cv=5, n_jobs=-1, verbose=2)\n",
    "grid_rf.fit(X_train, y_train)\n",
    "\n",
    "# Лучшие параметры\n",
    "print(f'Best Parameters for Random Forest: {grid_rf.best_params_}')\n"
   ]
  },
  {
   "cell_type": "markdown",
   "id": "5ccd2280-d72a-4842-bc20-726311025019",
   "metadata": {},
   "source": [
    "### 4.2. Кросс-валидация для XGBoost"
   ]
  },
  {
   "cell_type": "code",
   "execution_count": 12,
   "id": "1077b018-0447-4d2a-b33d-f407cc0acfd5",
   "metadata": {},
   "outputs": [
    {
     "ename": "ModuleNotFoundError",
     "evalue": "No module named 'xgboost'",
     "output_type": "error",
     "traceback": [
      "\u001b[1;31m---------------------------------------------------------------------------\u001b[0m",
      "\u001b[1;31mModuleNotFoundError\u001b[0m                       Traceback (most recent call last)",
      "Cell \u001b[1;32mIn[12], line 2\u001b[0m\n\u001b[0;32m      1\u001b[0m \u001b[38;5;28;01mfrom\u001b[39;00m \u001b[38;5;21;01msklearn\u001b[39;00m\u001b[38;5;21;01m.\u001b[39;00m\u001b[38;5;21;01mmodel_selection\u001b[39;00m \u001b[38;5;28;01mimport\u001b[39;00m GridSearchCV\n\u001b[1;32m----> 2\u001b[0m \u001b[38;5;28;01mimport\u001b[39;00m \u001b[38;5;21;01mxgboost\u001b[39;00m \u001b[38;5;28;01mas\u001b[39;00m \u001b[38;5;21;01mxgb\u001b[39;00m\n\u001b[0;32m      4\u001b[0m \u001b[38;5;66;03m# Гиперпараметры для XGBoost\u001b[39;00m\n\u001b[0;32m      5\u001b[0m param_grid_xg \u001b[38;5;241m=\u001b[39m {\n\u001b[0;32m      6\u001b[0m     \u001b[38;5;124m'\u001b[39m\u001b[38;5;124mn_estimators\u001b[39m\u001b[38;5;124m'\u001b[39m: [\u001b[38;5;241m100\u001b[39m, \u001b[38;5;241m200\u001b[39m],\n\u001b[0;32m      7\u001b[0m     \u001b[38;5;124m'\u001b[39m\u001b[38;5;124mlearning_rate\u001b[39m\u001b[38;5;124m'\u001b[39m: [\u001b[38;5;241m0.01\u001b[39m, \u001b[38;5;241m0.05\u001b[39m, \u001b[38;5;241m0.1\u001b[39m],\n\u001b[0;32m      8\u001b[0m     \u001b[38;5;124m'\u001b[39m\u001b[38;5;124mmax_depth\u001b[39m\u001b[38;5;124m'\u001b[39m: [\u001b[38;5;241m5\u001b[39m, \u001b[38;5;241m10\u001b[39m, \u001b[38;5;241m15\u001b[39m],\n\u001b[0;32m      9\u001b[0m     \u001b[38;5;124m'\u001b[39m\u001b[38;5;124msubsample\u001b[39m\u001b[38;5;124m'\u001b[39m: [\u001b[38;5;241m0.8\u001b[39m, \u001b[38;5;241m1.0\u001b[39m]\n\u001b[0;32m     10\u001b[0m }\n",
      "\u001b[1;31mModuleNotFoundError\u001b[0m: No module named 'xgboost'"
     ]
    }
   ],
   "source": [
    "from sklearn.model_selection import GridSearchCV\n",
    "import xgboost as xgb\n",
    "\n",
    "# Гиперпараметры для XGBoost\n",
    "param_grid_xg = {\n",
    "    'n_estimators': [100, 200],\n",
    "    'learning_rate': [0.01, 0.05, 0.1],\n",
    "    'max_depth': [5, 10, 15],\n",
    "    'subsample': [0.8, 1.0]\n",
    "}\n",
    "\n",
    "# Инициализация модели XGBoost\n",
    "xg = xgb.XGBRegressor()\n",
    "\n",
    "# Настройка GridSearchCV для кросс-валидации\n",
    "grid_xg = GridSearchCV(estimator=xg, param_grid=param_grid_xg, cv=5, n_jobs=-1, verbose=2)\n",
    "grid_xg.fit(X_train, y_train)\n",
    "\n",
    "# Лучшие параметры\n",
    "print(f'Best Parameters for XGBoost: {grid_xg.best_params_}')\n"
   ]
  },
  {
   "cell_type": "markdown",
   "id": "8edde1cf-d456-45de-9896-36d69efc015d",
   "metadata": {},
   "source": [
    "### 4.3. Кросс-валидация для машины опорных векторов (SVM)"
   ]
  },
  {
   "cell_type": "code",
   "execution_count": 13,
   "id": "b2f0cc44-f3d6-43dc-bf24-f1dd187fe6fd",
   "metadata": {},
   "outputs": [
    {
     "name": "stdout",
     "output_type": "stream",
     "text": [
      "Fitting 5 folds for each of 12 candidates, totalling 60 fits\n",
      "Best Parameters for SVM: {'C': 0.1, 'gamma': 'auto', 'kernel': 'rbf'}\n"
     ]
    }
   ],
   "source": [
    "from sklearn.model_selection import GridSearchCV\n",
    "from sklearn.svm import SVR\n",
    "\n",
    "# Гиперпараметры для SVM\n",
    "param_grid_svm = {\n",
    "    'C': [0.1, 1, 10],\n",
    "    'gamma': ['scale', 'auto'],\n",
    "    'kernel': ['rbf', 'linear']\n",
    "}\n",
    "\n",
    "# Инициализация модели SVM\n",
    "svm = SVR()\n",
    "\n",
    "# Настройка GridSearchCV для кросс-валидации\n",
    "grid_svm = GridSearchCV(estimator=svm, param_grid=param_grid_svm, cv=5, n_jobs=-1, verbose=2)\n",
    "grid_svm.fit(X_train, y_train)\n",
    "\n",
    "# Лучшие параметры\n",
    "print(f'Best Parameters for SVM: {grid_svm.best_params_}')\n"
   ]
  },
  {
   "cell_type": "markdown",
   "id": "73162143-1a11-4beb-a18d-6cb0c0ca98b6",
   "metadata": {},
   "source": [
    "### 4.4. Кросс-валидация для логистической регрессии"
   ]
  },
  {
   "cell_type": "code",
   "execution_count": 14,
   "id": "c0cdb3dc-d116-47b7-afec-1e0d807fbdc7",
   "metadata": {},
   "outputs": [
    {
     "name": "stdout",
     "output_type": "stream",
     "text": [
      "Fitting 5 folds for each of 6 candidates, totalling 30 fits\n",
      "Best Parameters for Logistic Regression: {'C': 0.1, 'solver': 'liblinear'}\n"
     ]
    }
   ],
   "source": [
    "from sklearn.model_selection import GridSearchCV\n",
    "from sklearn.linear_model import LogisticRegression\n",
    "\n",
    "# Гиперпараметры для логистической регрессии\n",
    "param_grid_lr = {\n",
    "    'C': [0.1, 1, 10],\n",
    "    'solver': ['liblinear', 'saga']\n",
    "}\n",
    "\n",
    "# Инициализация модели логистической регрессии\n",
    "lr = LogisticRegression()\n",
    "\n",
    "# Настройка GridSearchCV для кросс-валидации\n",
    "grid_lr = GridSearchCV(estimator=lr, param_grid=param_grid_lr, cv=5, n_jobs=-1, verbose=2)\n",
    "grid_lr.fit(X_train, y_train)\n",
    "\n",
    "# Лучшие параметры\n",
    "print(f'Best Parameters for Logistic Regression: {grid_lr.best_params_}')\n"
   ]
  },
  {
   "cell_type": "markdown",
   "id": "83321aa0-04d2-492a-8958-5f4f060f259a",
   "metadata": {},
   "source": [
    "## Этап 5: Прогнозирование на тестовой выборке"
   ]
  },
  {
   "cell_type": "markdown",
   "id": "433de365-6ba0-4377-8543-158d42ec1802",
   "metadata": {},
   "source": [
    "### 5.1. Логистическая регрессия"
   ]
  },
  {
   "cell_type": "code",
   "execution_count": 16,
   "id": "f8f3668a-b514-4aae-b551-5b14994342d4",
   "metadata": {},
   "outputs": [
    {
     "name": "stdout",
     "output_type": "stream",
     "text": [
      "Mean Squared Error (Logistic Regression): 0.018867924528301886\n"
     ]
    }
   ],
   "source": [
    "# Прогнозирование с использованием оптимизированных параметров\n",
    "y_pred_lr = grid_lr.best_estimator_.predict(X_test)\n",
    "\n",
    "# Оценка модели\n",
    "from sklearn.metrics import mean_squared_error\n",
    "mse_lr = mean_squared_error(y_test, y_pred_lr)\n",
    "print(f'Mean Squared Error (Logistic Regression): {mse_lr}')\n"
   ]
  },
  {
   "cell_type": "markdown",
   "id": "a3731ccc-5db7-409b-b047-92a84899ec48",
   "metadata": {},
   "source": [
    "### 5.2. Машина опорных векторов (SVM)"
   ]
  },
  {
   "cell_type": "code",
   "execution_count": 18,
   "id": "3e56d776-8ecd-4b30-8cb6-f809cc73cbe7",
   "metadata": {},
   "outputs": [
    {
     "name": "stdout",
     "output_type": "stream",
     "text": [
      "Mean Squared Error (SVM): 0.016293056267503585\n"
     ]
    }
   ],
   "source": [
    "# Прогнозирование с использованием оптимизированных параметров\n",
    "y_pred_svm = grid_svm.best_estimator_.predict(X_test)\n",
    "\n",
    "# Оценка модели\n",
    "mse_svm = mean_squared_error(y_test, y_pred_svm)\n",
    "print(f'Mean Squared Error (SVM): {mse_svm}')\n"
   ]
  },
  {
   "cell_type": "markdown",
   "id": "082d8c56-22ee-4081-a83b-58cf09ecf982",
   "metadata": {},
   "source": [
    "### 5.3. Модель случайного леса (Random Forest)"
   ]
  },
  {
   "cell_type": "code",
   "execution_count": 19,
   "id": "e84aa379-bb8e-4c47-ac58-c25d82bfd19b",
   "metadata": {},
   "outputs": [
    {
     "name": "stdout",
     "output_type": "stream",
     "text": [
      "Mean Squared Error (Random Forest): 0.014505212952795202\n"
     ]
    }
   ],
   "source": [
    "# Прогнозирование с использованием оптимизированных параметров\n",
    "y_pred_rf = grid_rf.best_estimator_.predict(X_test)\n",
    "\n",
    "# Оценка модели\n",
    "mse_rf = mean_squared_error(y_test, y_pred_rf)\n",
    "print(f'Mean Squared Error (Random Forest): {mse_rf}')\n"
   ]
  },
  {
   "cell_type": "markdown",
   "id": "bcf2ce90-39de-4500-a9b4-96353de6cc66",
   "metadata": {},
   "source": [
    "### 5.4. Градиентный бустинг (XGBoost)"
   ]
  },
  {
   "cell_type": "code",
   "execution_count": 20,
   "id": "46a8312b-866b-4495-b20f-3dbf9399f356",
   "metadata": {},
   "outputs": [
    {
     "ename": "NameError",
     "evalue": "name 'grid_xg' is not defined",
     "output_type": "error",
     "traceback": [
      "\u001b[1;31m---------------------------------------------------------------------------\u001b[0m",
      "\u001b[1;31mNameError\u001b[0m                                 Traceback (most recent call last)",
      "Cell \u001b[1;32mIn[20], line 2\u001b[0m\n\u001b[0;32m      1\u001b[0m \u001b[38;5;66;03m# Прогнозирование с использованием оптимизированных параметров\u001b[39;00m\n\u001b[1;32m----> 2\u001b[0m y_pred_xg \u001b[38;5;241m=\u001b[39m grid_xg\u001b[38;5;241m.\u001b[39mbest_estimator_\u001b[38;5;241m.\u001b[39mpredict(X_test)\n\u001b[0;32m      4\u001b[0m \u001b[38;5;66;03m# Оценка модели\u001b[39;00m\n\u001b[0;32m      5\u001b[0m mse_xg \u001b[38;5;241m=\u001b[39m mean_squared_error(y_test, y_pred_xg)\n",
      "\u001b[1;31mNameError\u001b[0m: name 'grid_xg' is not defined"
     ]
    }
   ],
   "source": [
    "# Прогнозирование с использованием оптимизированных параметров\n",
    "y_pred_xg = grid_xg.best_estimator_.predict(X_test)\n",
    "\n",
    "# Оценка модели\n",
    "mse_xg = mean_squared_error(y_test, y_pred_xg)\n",
    "print(f'Mean Squared Error (XGBoost): {mse_xg}')\n"
   ]
  },
  {
   "cell_type": "markdown",
   "id": "8b6851a3-da3c-4947-b1a9-36bf022605a1",
   "metadata": {},
   "source": [
    "## 6: Сравнение моделей"
   ]
  },
  {
   "cell_type": "code",
   "execution_count": 22,
   "id": "df89ea1d-1183-4bb0-b934-b27c9314f686",
   "metadata": {},
   "outputs": [
    {
     "name": "stdout",
     "output_type": "stream",
     "text": [
      "Logistic Regression: Mean Squared Error = 0.018867924528301886\n",
      "SVM: Mean Squared Error = 0.016293056267503585\n",
      "Random Forest: Mean Squared Error = 0.014505212952795202\n"
     ]
    }
   ],
   "source": [
    "# Сравнение MSE моделей\n",
    "mse_results = {\n",
    "    'Logistic Regression': mse_lr,\n",
    "    'SVM': mse_svm,\n",
    "    'Random Forest': mse_rf,\n",
    "   # 'XGBoost': mse_xg\n",
    "}\n",
    "\n",
    "# Выводим результаты\n",
    "for model, mse in mse_results.items():\n",
    "    print(f'{model}: Mean Squared Error = {mse}')\n"
   ]
  },
  {
   "cell_type": "markdown",
   "id": "a42c058f-7bc8-4977-b73c-af5cd05a1e56",
   "metadata": {},
   "source": [
    "## Визуализация прогнозов"
   ]
  },
  {
   "cell_type": "code",
   "execution_count": 28,
   "id": "fc0ba26b-c060-4f5f-95d9-f8c111d60a42",
   "metadata": {},
   "outputs": [
    {
     "ename": "NameError",
     "evalue": "name 'y_pred_xgb' is not defined",
     "output_type": "error",
     "traceback": [
      "\u001b[1;31m---------------------------------------------------------------------------\u001b[0m",
      "\u001b[1;31mNameError\u001b[0m                                 Traceback (most recent call last)",
      "Cell \u001b[1;32mIn[28], line 16\u001b[0m\n\u001b[0;32m     14\u001b[0m plt\u001b[38;5;241m.\u001b[39mplot(dates, y_pred_svm, label\u001b[38;5;241m=\u001b[39m\u001b[38;5;124m'\u001b[39m\u001b[38;5;124mSVM\u001b[39m\u001b[38;5;124m'\u001b[39m, color\u001b[38;5;241m=\u001b[39m\u001b[38;5;124m'\u001b[39m\u001b[38;5;124mgreen\u001b[39m\u001b[38;5;124m'\u001b[39m)\n\u001b[0;32m     15\u001b[0m plt\u001b[38;5;241m.\u001b[39mplot(dates, y_pred_rf, label\u001b[38;5;241m=\u001b[39m\u001b[38;5;124m'\u001b[39m\u001b[38;5;124mСлучайный лес\u001b[39m\u001b[38;5;124m'\u001b[39m, color\u001b[38;5;241m=\u001b[39m\u001b[38;5;124m'\u001b[39m\u001b[38;5;124morange\u001b[39m\u001b[38;5;124m'\u001b[39m)\n\u001b[1;32m---> 16\u001b[0m plt\u001b[38;5;241m.\u001b[39mplot(dates, y_pred_xgb, label\u001b[38;5;241m=\u001b[39m\u001b[38;5;124m'\u001b[39m\u001b[38;5;124mXGBoost\u001b[39m\u001b[38;5;124m'\u001b[39m, color\u001b[38;5;241m=\u001b[39m\u001b[38;5;124m'\u001b[39m\u001b[38;5;124mpurple\u001b[39m\u001b[38;5;124m'\u001b[39m)\n\u001b[0;32m     18\u001b[0m \u001b[38;5;66;03m# Настройка графика\u001b[39;00m\n\u001b[0;32m     19\u001b[0m plt\u001b[38;5;241m.\u001b[39mtitle(\u001b[38;5;124m'\u001b[39m\u001b[38;5;124mСравнение прогнозов моделей машинного обучения\u001b[39m\u001b[38;5;124m'\u001b[39m)\n",
      "\u001b[1;31mNameError\u001b[0m: name 'y_pred_xgb' is not defined"
     ]
    },
    {
     "data": {
      "image/png": "[encoded data removed]",
      "text/plain": [
       "<Figure size 1200x600 with 1 Axes>"
      ]
     },
     "metadata": {},
     "output_type": "display_data"
    }
   ],
   "source": [
    "import matplotlib.pyplot as plt\n",
    "\n",
    "# Визуализация результатов\n",
    "plt.figure(figsize=(12, 6))\n",
    "\n",
    "# Если y_test — это NumPy массив, создаем последовательность индексов для оси X\n",
    "dates = range(len(y_test))\n",
    "\n",
    "# Истинные значения (цены акций)\n",
    "plt.plot(dates, y_test, label='Истинные значения', color='blue')\n",
    "\n",
    "# Прогнозы для каждой модели\n",
    "plt.plot(dates, y_pred_lr, label='Логистическая регрессия', color='red')\n",
    "plt.plot(dates, y_pred_svm, label='SVM', color='green')\n",
    "plt.plot(dates, y_pred_rf, label='Случайный лес', color='orange')\n",
    "plt.plot(dates, y_pred_xgb, label='XGBoost', color='purple')\n",
    "\n",
    "# Настройка графика\n",
    "plt.title('Сравнение прогнозов моделей машинного обучения')\n",
    "plt.xlabel('Дата')\n",
    "plt.ylabel('Цена акции')\n",
    "plt.legend()\n",
    "plt.xticks(rotation=45)  # Поворот подписей по оси X для улучшения читаемости\n",
    "plt.show()\n"
   ]
  },
  {
   "cell_type": "markdown",
   "id": "595616d0-4989-433d-a9c3-743ee3dbdcd9",
   "metadata": {},
   "source": [
    "## 7 Анализ важности признаков (для Random Forest)"
   ]
  },
  {
   "cell_type": "code",
   "execution_count": 31,
   "id": "0fc92e8c-9d98-44ba-95f2-223efa9cd4b7",
   "metadata": {},
   "outputs": [
    {
     "data": {
      "image/png": "[encoded data removed]",
      "text/plain": [
       "<Figure size 1000x600 with 1 Axes>"
      ]
     },
     "metadata": {},
     "output_type": "display_data"
    }
   ],
   "source": [
    "best_rf = grid_rf.best_estimator_\n",
    "\n",
    "# Анализ важности признаков (для Random Forest)\n",
    "feature_importance = pd.DataFrame({'feature': range(X_train.shape[1]), 'importance': best_rf.feature_importances_})\n",
    "feature_importance = feature_importance.sort_values('importance', ascending=False).head(10)\n",
    "\n",
    "# Визуализация важности признаков\n",
    "plt.figure(figsize=(10, 6))\n",
    "plt.bar(feature_importance['feature'], feature_importance['importance'], color='teal')\n",
    "plt.title('Топ-10 важных признаков (Random Forest)')\n",
    "plt.xlabel('Индекс признака')\n",
    "plt.ylabel('Важность')\n",
    "plt.show()\n"
   ]
  },
  {
   "cell_type": "code",
   "execution_count": null,
   "id": "6dd55cfb-bae2-4587-84fa-9ef27f35abf0",
   "metadata": {},
   "outputs": [],
   "source": []
  }
 ],
 "metadata": {
  "kernelspec": {
   "display_name": "Python 3 (ipykernel)",
   "language": "python",
   "name": "python3"
  },
  "language_info": {
   "codemirror_mode": {
    "name": "ipython",
    "version": 3
   },
   "file_extension": ".py",
   "mimetype": "text/x-python",
   "name": "python",
   "nbconvert_exporter": "python",
   "pygments_lexer": "ipython3",
   "version": "3.11.5"
  }
 },
 "nbformat": 4,
 "nbformat_minor": 5
}
